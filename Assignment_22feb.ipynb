{
 "cells": [
  {
   "cell_type": "code",
   "execution_count": null,
   "id": "ad513c45-dca3-4520-be03-9a29b7efa1df",
   "metadata": {},
   "outputs": [],
   "source": [
    "1. Create a Pandas Series that contains the following data: 4, 8, 15, 16, 23, and 42. Then, print the series."
   ]
  },
  {
   "cell_type": "code",
   "execution_count": 25,
   "id": "9466f18a-796a-4170-93fe-753bd73b9629",
   "metadata": {},
   "outputs": [
    {
     "name": "stdout",
     "output_type": "stream",
     "text": [
      "0     4\n",
      "1     8\n",
      "2    15\n",
      "3    16\n",
      "4    23\n",
      "5    42\n",
      "dtype: int64\n"
     ]
    }
   ],
   "source": [
    "import pandas as pd\n",
    "series= (4, 8, 15, 16, 23, 42)\n",
    "print(pd.Series(series))"
   ]
  },
  {
   "cell_type": "code",
   "execution_count": null,
   "id": "0fbc985c-3172-4fd0-b842-df09e3b6b5d0",
   "metadata": {},
   "outputs": [],
   "source": [
    "2. Create a variable of list type containing 10 elements in it, and apply pandas Series function on the\n",
    "variable print it."
   ]
  },
  {
   "cell_type": "code",
   "execution_count": 13,
   "id": "c1d0ae07-6624-4649-b275-3a6dd180f6e1",
   "metadata": {},
   "outputs": [
    {
     "name": "stdout",
     "output_type": "stream",
     "text": [
      "0     21\n",
      "1     23\n",
      "2     43\n",
      "3     65\n",
      "4     76\n",
      "5     89\n",
      "6     72\n",
      "7     59\n",
      "8     90\n",
      "9    110\n",
      "dtype: int64\n"
     ]
    }
   ],
   "source": [
    "import pandas as p\n",
    "var=[21,23,43,65,76,89,72,59,90,110]\n",
    "lt = p.Series(var)\n",
    "print(lt)"
   ]
  },
  {
   "cell_type": "code",
   "execution_count": null,
   "id": "2a40b30e-3ae7-4c8a-9d1f-2209cd997fb3",
   "metadata": {},
   "outputs": [],
   "source": [
    "3. Create a Pandas DataFrame that contains the following data:\n",
    "Name       Age        Gender\n",
    "Alice      25         Female\n",
    "Bob        30         Male\n",
    "Claire     27         Female\n",
    "\n",
    "Then, print the DataFrame."
   ]
  },
  {
   "cell_type": "code",
   "execution_count": 40,
   "id": "2f0d0380-df43-4f60-bde7-bd6da32ad7ad",
   "metadata": {},
   "outputs": [
    {
     "name": "stdout",
     "output_type": "stream",
     "text": [
      "     Name  Age  Gender\n",
      "0   Alice   25  Female\n",
      "1     Bob   30    Male\n",
      "2  Claire   27  Female\n"
     ]
    }
   ],
   "source": [
    "import pandas as pd\n",
    "data = [['Alice', 25, 'Female'],['Bob', 30, 'Male'],['Claire', 27, 'Female']]\n",
    "df = pd.DataFrame(data, columns=['Name', 'Age', 'Gender'])\n",
    "print(df)"
   ]
  },
  {
   "cell_type": "code",
   "execution_count": null,
   "id": "e106a7e0-91ae-487c-a3cf-1b4b909e1ed9",
   "metadata": {},
   "outputs": [],
   "source": [
    "4. What is ‘DataFrame’ in pandas and how is it different from pandas series? Explain with an example.\n",
    "\n",
    "A Pandas DataFrame is a two-dimensional labeled data structure with columns that can be of different types,\n",
    "much like a spreadsheet or SQL table, or a dictionary of Series objects. This makes it an extremely flexible \n",
    "data structure, capable of handling both homogenous and heterogeneous data.\n",
    "\n",
    "A DataFrame is essentially a collection of Series that share a common index. The data in the DataFrame is \n",
    "stored in memory as one or more two-dimensional blocks, rather than a list, dict, or some other collection\n",
    "of one-dimensional arrays.\n",
    "Example: \n",
    "import pandas as pd\n",
    "data = [['Alice', 25, 'Female'],['Bob', 30, 'Male'],['Claire', 27, 'Female']]\n",
    "df = pd.DataFrame(data, columns=['Name', 'Age', 'Gender'])\n",
    "print(df)\n",
    "\n",
    "Output:\n",
    "    Name  Age  Gender\n",
    "0   Alice   25  Female\n",
    "1     Bob   30    Male\n",
    "2  Claire   27  Female\n",
    "\n",
    "\n",
    "Series is a type of list in Pandas that can take integer values, string values, double values, and more. \n",
    "But in Pandas Series we return an object in the form of a list, having an index starting from 0 to n, \n",
    "Where n is the length of values in the series. \n",
    "Example:\n",
    "import pandas as pd\n",
    "series= (4, 8, 15, 16, 23, 42)\n",
    "print(pd.Series(series))\n",
    "\n",
    "Output:\n",
    "0     4\n",
    "1     8\n",
    "2    15\n",
    "3    16\n",
    "4    23\n",
    "5    42\n",
    "dtype: int64"
   ]
  },
  {
   "cell_type": "code",
   "execution_count": null,
   "id": "6a26e7b2-9a7e-40ef-a6da-a56ea0513fc2",
   "metadata": {},
   "outputs": [],
   "source": [
    "5. What are some common functions you can use to manipulate data in a Pandas DataFrame? Can\n",
    "you give an example of when you might use one of these functions?\n",
    "\n",
    "Some of the most used Pandas functions for data analysis include:\n",
    "\n",
    "read_csv(): Load data from a CSV file\n",
    "fillna(): Replace missing values in a DataFrame\n",
    "mean(): Calculate the mean of a Series or DataFrame\n",
    "std(): Calculate the standard deviation of a Series or DataFrame\n",
    "describe(): Calculate summary statistics for a Series or DataFrame\n",
    "plot(): Plot a Series or DataFrame\n",
    "\n",
    "Example:"
   ]
  },
  {
   "cell_type": "code",
   "execution_count": null,
   "id": "35924b6c-32df-4bfd-b8ac-704a359380ee",
   "metadata": {},
   "outputs": [],
   "source": [
    "import pandas as pd\n",
    "data_frame = pd.read_csv(\"services.csv\")"
   ]
  },
  {
   "cell_type": "code",
   "execution_count": null,
   "id": "011db6c0-df87-43b9-9341-e8a07dacd399",
   "metadata": {},
   "outputs": [],
   "source": [
    "6. Which of the following is mutable in nature Series, DataFrame, Panel?\n",
    "\n",
    "Out of the three Pandas data structures, Series is the only one that is immutable in nature.\n",
    "Both DataFrames and Panels are mutable in nature.\n",
    "Mutability in Python refers to the ability of an object to change its value. An immutable object cannot\n",
    "change its value once it is created, while a mutable object can.\n",
    "\n",
    "Here are a few examples of how DataFrames and Panels can be mutated:\n",
    "\n",
    "Adding a new column to a DataFrame\n",
    "Removing a column from a DataFrame\n",
    "Changing the value of a cell in a DataFrame\n",
    "Adding a new slice to a Panel\n",
    "Removing a slice from a Panel\n",
    "Changing the value of a cell in a Panel\n",
    "\n",
    "Series, on the other hand, cannot be mutated in the same way. For example, we cannot add a new column to\n",
    "a Series, remove a column from a Series, or change the value of a cell in a Series.\n",
    "We can, however, change the values of the elements in a Series. For example, we can use the iloc or loc \n",
    "attribute to access a specific element in a Series and then change its value."
   ]
  },
  {
   "cell_type": "code",
   "execution_count": null,
   "id": "052e8a76-59e9-43fe-9fba-9501652cb3e0",
   "metadata": {},
   "outputs": [],
   "source": [
    "7. Create a DataFrame using multiple Series. Explain with an example."
   ]
  },
  {
   "cell_type": "code",
   "execution_count": 14,
   "id": "54c4af24-3487-43a8-a9e9-44149a57b05d",
   "metadata": {},
   "outputs": [
    {
     "name": "stdout",
     "output_type": "stream",
     "text": [
      "     Name  Age  Gender       Subject State\n",
      "0  Shikha   26  Female  Data Science    UP\n",
      "1  Khushi   28  Female          Java    UK\n",
      "2   Sunil   29    Male       Biotech    RJ\n",
      "3     Raj   27    Male           C++    PB\n"
     ]
    }
   ],
   "source": [
    "import pandas as pd\n",
    "\n",
    "s1 = ['Shikha','Khushi','Sunil','Raj']\n",
    "name = (pd.Series(s1))\n",
    "\n",
    "s2= [26,28,29,27]\n",
    "age= (pd.Series(s2))\n",
    "\n",
    "s3= ['Female','Female','Male','Male']\n",
    "gender =(pd.Series(s3))\n",
    "\n",
    "s4=['Data Science','Java','Biotech','C++']\n",
    "subject =(pd.Series(s4)) \n",
    "\n",
    "s5=['UP','UK','RJ','PB']\n",
    "place = (pd.Series(s5))\n",
    "\n",
    "frame ={'Name':name, 'Age':age, 'Gender':gender,'Subject':subject,'State':place}\n",
    "\n",
    "df= pd.DataFrame(frame)\n",
    "\n",
    "print(df)"
   ]
  }
 ],
 "metadata": {
  "kernelspec": {
   "display_name": "Python 3 (ipykernel)",
   "language": "python",
   "name": "python3"
  },
  "language_info": {
   "codemirror_mode": {
    "name": "ipython",
    "version": 3
   },
   "file_extension": ".py",
   "mimetype": "text/x-python",
   "name": "python",
   "nbconvert_exporter": "python",
   "pygments_lexer": "ipython3",
   "version": "3.10.8"
  }
 },
 "nbformat": 4,
 "nbformat_minor": 5
}
